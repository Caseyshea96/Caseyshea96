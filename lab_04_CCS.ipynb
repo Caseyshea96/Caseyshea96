{
  "cells": [
    {
      "cell_type": "markdown",
      "metadata": {
        "id": "78_F1uaMLoMR"
      },
      "source": [
        "# Lab 4\n",
        "\n",
        "[![Open In Colab](https://colab.research.google.com/assets/colab-badge.svg)](https://colab.research.google.com/github/giswqs/geog-510/blob/main/book/labs/lab_04.ipynb)"
      ]
    },
    {
      "cell_type": "markdown",
      "metadata": {
        "id": "HCWF6FKPLoMU"
      },
      "source": [
        "## Exercise 1: Variable Assignment and Basic Operations\n",
        "\n",
        "Create variables to store the following geospatial data:\n",
        "\n",
        "- The latitude and longitude of New York City: 40.7128, -74.0060.\n",
        "- The population of New York City: 8,336,817.\n",
        "- The area of New York City in square kilometers: 783.8.\n",
        "\n",
        "Perform the following tasks:\n",
        "\n",
        "1. Calculate and print the population density of New York City (population per square kilometer).\n",
        "2. Print the coordinates in the format \"Latitude: [latitude], Longitude: [longitude]\"."
      ]
    },
    {
      "cell_type": "code",
      "execution_count": 1,
      "metadata": {
        "colab": {
          "base_uri": "https://localhost:8080/"
        },
        "id": "l4UzrzJELoMV",
        "outputId": "4460431f-915f-48ac-f8f5-01ddfc2418f7"
      },
      "outputs": [
        {
          "name": "stdout",
          "output_type": "stream",
          "text": [
            "The population density of New York City is: 10636.41 people per square kilometer\n",
            "Latitude: 40.7128, Longitude: -74.006\n"
          ]
        }
      ],
      "source": [
        "\n",
        "# Define variables for New York City's geospatial data\n",
        "latitude = 40.7128\n",
        "longitude = -74.0060\n",
        "population = 8336817\n",
        "area = 783.8\n",
        "\n",
        "# Calculate population density\n",
        "population_density = population / area\n",
        "\n",
        "# Print the population density\n",
        "print(f\"The population density of New York City is: {population_density:.2f} people per square kilometer\")\n",
        "\n",
        "# Print the coordinates\n",
        "print(f\"Latitude: {latitude}, Longitude: {longitude}\")\n"
      ]
    },
    {
      "cell_type": "markdown",
      "metadata": {
        "id": "ZmqAgixtLoMV"
      },
      "source": [
        "## Exercise 2: Working with Strings\n",
        "\n",
        "Create a string variable to store the name of a city, such as \"San Francisco\". Perform the following operations:\n",
        "\n",
        "1. Convert the string to lowercase and print the result.\n",
        "2. Convert the string to uppercase and print the result.\n",
        "3. Replace \"San\" with \"Los\" in the city name and print the new string."
      ]
    },
    {
      "cell_type": "code",
      "execution_count": 2,
      "metadata": {
        "colab": {
          "base_uri": "https://localhost:8080/",
          "height": 70
        },
        "id": "Ib1ZynQtLoMW",
        "outputId": "8ed8652c-624a-4beb-f294-b6c0d0e77a44"
      },
      "outputs": [
        {
          "name": "stdout",
          "output_type": "stream",
          "text": [
            "san francisco\n",
            "SAN FRANCISCO\n"
          ]
        },
        {
          "data": {
            "application/vnd.google.colaboratory.intrinsic+json": {
              "type": "string"
            },
            "text/plain": [
              "'Los Francisco'"
            ]
          },
          "execution_count": 2,
          "metadata": {},
          "output_type": "execute_result"
        }
      ],
      "source": [
        "city_name = \"San Francisco\"\n",
        "\n",
        "# Convert to lowercase\n",
        "lowercase_city = city_name.lower()\n",
        "print(lowercase_city)\n",
        "\n",
        "# Convert to uppercase\n",
        "uppercase_city = city_name.upper()\n",
        "print(uppercase_city)\n",
        "\n",
        "# Replace \"San\" with \"Los\"\n",
        "new_city_name = city_name.replace(\"San\", \"Los\")\n",
        "new_city_name\n"
      ]
    },
    {
      "cell_type": "markdown",
      "metadata": {
        "id": "NkgUpTg3LoMW"
      },
      "source": [
        "## Exercise 3: Using Lists\n",
        "\n",
        "Create a list of tuples, where each tuple contains the name of a city and its corresponding latitude and longitude:\n",
        "\n",
        "- New York City: (40.7128, -74.0060)\n",
        "- Los Angeles: (34.0522, -118.2437)\n",
        "- Chicago: (41.8781, -87.6298)\n",
        "\n",
        "Perform the following tasks:\n",
        "\n",
        "1. Add a new city (e.g., Miami: (25.7617, -80.1918)) to the list.\n",
        "2. Print the entire list of cities.\n",
        "3. Slice the list to print only the first two cities."
      ]
    },
    {
      "cell_type": "code",
      "execution_count": 3,
      "metadata": {
        "colab": {
          "base_uri": "https://localhost:8080/"
        },
        "id": "TXxNpSz6LoMW",
        "outputId": "091fb2e4-1bbb-43c6-c9fe-f8690e95b213"
      },
      "outputs": [
        {
          "name": "stdout",
          "output_type": "stream",
          "text": [
            "[('New York City', (40.7128, -74.006)), ('Los Angeles', (34.0522, -118.2437)), ('Chicago', (41.8781, -87.6298)), ('Miami', (25.7617, -80.1918))]\n",
            "[('New York City', (40.7128, -74.006)), ('Los Angeles', (34.0522, -118.2437))]\n"
          ]
        }
      ],
      "source": [
        "\n",
        "cities = [\n",
        "    (\"New York City\", (40.7128, -74.0060)),\n",
        "    (\"Los Angeles\", (34.0522, -118.2437)),\n",
        "    (\"Chicago\", (41.8781, -87.6298))\n",
        "]\n",
        "\n",
        "# Add a new city to the list\n",
        "cities.append((\"Miami\", (25.7617, -80.1918)))\n",
        "\n",
        "# Print the entire list of cities\n",
        "print(cities)\n",
        "\n",
        "# Slice the list to print only the first two cities\n",
        "print(cities[:2])\n"
      ]
    },
    {
      "cell_type": "markdown",
      "metadata": {
        "id": "d82CtYTDLoMW"
      },
      "source": [
        "## Exercise 4: Using Tuples\n",
        "\n",
        "Create a tuple to store the coordinates (latitude, longitude) of the Eiffel Tower: (48.8584, 2.2945). Perform the following tasks:\n",
        "\n",
        "1. Access and print the latitude and longitude values from the tuple.\n",
        "2. Try to change the latitude value to 48.8585. What happens? Explain why."
      ]
    },
    {
      "cell_type": "code",
      "execution_count": 9,
      "metadata": {
        "colab": {
          "base_uri": "https://localhost:8080/"
        },
        "id": "dD0N-Ln7LoMX",
        "outputId": "0f0addca-327c-46e2-adea-dcb14f2199a6"
      },
      "outputs": [
        {
          "name": "stdout",
          "output_type": "stream",
          "text": [
            "Latitude: 48.8584\n",
            "Longitude: 2.2945\n",
            "Explanation: Tuple elements can not be changed after creation\n"
          ]
        }
      ],
      "source": [
        "# Create a tuple for Eiffel Tower coordinates\n",
        "eiffel_tower_coordinates = (48.8584, 2.2945)\n",
        "\n",
        "# Access and print latitude and longitude\n",
        "latitude, longitude = eiffel_tower_coordinates\n",
        "print(f\"Latitude: {latitude}\")\n",
        "print(f\"Longitude: {longitude}\")\n",
        "\n",
        "\n",
        "#eiffel_tower_coordinates[0] = 48.8585\n",
        "#This will result in an error.\n",
        "\n",
        "print(\"Explanation: Tuple elements can not be changed after creation\")\n"
      ]
    },
    {
      "cell_type": "markdown",
      "metadata": {
        "id": "k7jb7LfNLoMX"
      },
      "source": [
        "## Exercise 5: Working with Sets\n",
        "\n",
        "Create a set of countries you have visited, such as {\"USA\", \"France\", \"Germany\"}. Perform the following tasks:\n",
        "\n",
        "1. Add a new country to the set.\n",
        "2. Try to add the same country again. What happens?\n",
        "3. Print the updated set."
      ]
    },
    {
      "cell_type": "code",
      "execution_count": 12,
      "metadata": {
        "colab": {
          "base_uri": "https://localhost:8080/"
        },
        "id": "qUmIzmReLoMX",
        "outputId": "2de9f326-c6b6-4ab1-c8a8-c2a8dd2ed85a"
      },
      "outputs": [
        {
          "name": "stdout",
          "output_type": "stream",
          "text": [
            "{'USA', 'Canada', 'France', 'Germany'}\n"
          ]
        }
      ],
      "source": [
        "\n",
        "visited_countries = {\"USA\", \"France\", \"Germany\"}\n",
        "\n",
        "# Add a new country\n",
        "visited_countries.add(\"Canada\")\n",
        "\n",
        "# Try to add the same country again\n",
        "visited_countries.add(\"Canada\")  # No error, but the set remains unchanged as sets only contain unique elements.\n",
        "\n",
        "# Print the updated set\n",
        "print(visited_countries)\n"
      ]
    },
    {
      "cell_type": "markdown",
      "metadata": {
        "id": "1ui4z8SOLoMX"
      },
      "source": [
        "## Exercise 6: Working with Dictionaries\n",
        "\n",
        "Create a dictionary to store information about a specific geospatial feature, such as a river:\n",
        "\n",
        "- Name: \"Amazon River\"\n",
        "- Length: 6400 km\n",
        "- Countries: [\"Brazil\", \"Peru\", \"Colombia\"]\n",
        "\n",
        "Perform the following tasks:\n",
        "\n",
        "1. Add a new key-value pair to the dictionary to store the river's average discharge (e.g., 209,000 m³/s).\n",
        "2. Update the length of the river to 6992 km.\n",
        "3. Print the dictionary."
      ]
    },
    {
      "cell_type": "code",
      "execution_count": 5,
      "metadata": {},
      "outputs": [
        {
          "name": "stdout",
          "output_type": "stream",
          "text": [
            "{'Name': 'Amazon River', 'Length': 6992, 'Countries': ['Brazil', 'Peru', 'Colombia'], 'Average Discharge': '209,000 m³/s'}\n"
          ]
        }
      ],
      "source": [
        "# Create a dictionary for Amazon River\n",
        "Amazon_River = {\n",
        "    \"Name\": \"Amazon River\",\n",
        "    \"Length\": 6400,\n",
        "    \"Countries\": [\"Brazil\", \"Peru\", \"Colombia\"]\n",
        "}\n",
        "\n",
        "# Add a new key-value pair for average discharge\n",
        "Amazon_River[\"Average Discharge\"] = \"209,000 m³/s\"\n",
        "\n",
        "# Update the length of the river\n",
        "Amazon_River[\"Length\"] = 6992\n",
        "\n",
        "# Print the dictionary\n",
        "print(Amazon_River)"
      ]
    },
    {
      "cell_type": "markdown",
      "metadata": {
        "id": "3a-u_NaMLoMY"
      },
      "source": [
        "## Exercise 7: Nested Data Structures\n",
        "\n",
        "Create a dictionary to represent a city that contains the city's name, population, and coordinates (latitude, longitude):\n",
        "\n",
        "- Name: \"Tokyo\"\n",
        "- Population: 13,515,271\n",
        "- Coordinates: (35.6895, 139.6917)\n",
        "\n",
        "Perform the following tasks:\n",
        "\n",
        "1. Access and print the population of the city.\n",
        "2. Access and print the city's latitude.\n",
        "3. Update the population to 14,000,000 and print the updated dictionary."
      ]
    },
    {
      "cell_type": "code",
      "execution_count": 1,
      "metadata": {
        "id": "6NvzdM38LoMY"
      },
      "outputs": [
        {
          "name": "stdout",
          "output_type": "stream",
          "text": [
            "Population: 13515271\n",
            "Latitude: 35.6895\n",
            "{'name': 'Tokyo', 'population': 14000000, 'coordinates': (35.6895, 139.6917)}\n"
          ]
        }
      ],
      "source": [
        "# Create a dictionary to represent the city\n",
        "city = {\n",
        "    \"name\": \"Tokyo\",\n",
        "    \"population\": 13515271,\n",
        "    \"coordinates\": (35.6895, 139.6917)\n",
        "}\n",
        "\n",
        "# Access and print the population of the city\n",
        "print(f\"Population: {city['population']}\")\n",
        "\n",
        "# Access and print the city's latitude\n",
        "print(f\"Latitude: {city['coordinates'][0]}\")\n",
        "\n",
        "# Update the population to 14,000,000\n",
        "city[\"population\"] = 14000000\n",
        "\n",
        "# Print the updated dictionary\n",
        "print(city)"
      ]
    },
    {
      "cell_type": "markdown",
      "metadata": {
        "id": "T7n5SlaYLoMY"
      },
      "source": [
        "## Exercise 8: List Operations\n",
        "\n",
        "Given the list of cities from Exercise 3, perform the following operations:\n",
        "\n",
        "1. Sort the list of cities alphabetically by name.\n",
        "2. Create a new list that contains only the city names.\n",
        "3. Remove the last city from the original list and print the updated list."
      ]
    },
    {
      "cell_type": "code",
      "execution_count": 4,
      "metadata": {},
      "outputs": [
        {
          "name": "stdout",
          "output_type": "stream",
          "text": [
            "[('Chicago', (41.8781, -87.6298)), ('Los Angeles', (34.0522, -118.2437)), ('Miami', (25.7617, -80.1918))]\n"
          ]
        }
      ],
      "source": [
        "# Sort the list of cities alphabetically by name\n",
        "cities.sort(key=lambda x: x[0])\n",
        "\n",
        "# Create a new list that contains only the city names\n",
        "city_names = [city[0] for city in cities]\n",
        "\n",
        "# Remove the last city from the original list and print the updated list\n",
        "cities.pop()\n",
        "print(cities)"
      ]
    },
    {
      "cell_type": "markdown",
      "metadata": {
        "id": "6NwQlhjTLoMY"
      },
      "source": [
        "## Exercise 9: Dictionary Operations\n",
        "\n",
        "Using the dictionary from Exercise 6, perform the following tasks:\n",
        "\n",
        "1. Check if the key \"Length\" exists in the dictionary.\n",
        "2. Print all the keys in the dictionary.\n",
        "3. Print all the values in the dictionary."
      ]
    },
    {
      "cell_type": "code",
      "execution_count": 6,
      "metadata": {
        "id": "F8W-IVAoLoMY"
      },
      "outputs": [
        {
          "name": "stdout",
          "output_type": "stream",
          "text": [
            "The key 'length' exists in the dictionary.\n",
            "Keys: dict_keys(['name', 'length', 'countries', 'average_discharge'])\n",
            "Values: dict_values(['Amazon River', 6400, ['Brazil', 'Peru', 'Colombia'], 209000])\n"
          ]
        }
      ],
      "source": [
        "# Using the dictionary from Exercise 6\n",
        "river = {\n",
        "    \"name\": \"Amazon River\",\n",
        "    \"length\": 6400,\n",
        "    \"countries\": [\"Brazil\", \"Peru\", \"Colombia\"],\n",
        "    \"average_discharge\": 209000\n",
        "}\n",
        "\n",
        "# Check if the key \"Length\" exists in the dictionary\n",
        "if \"length\" in river:\n",
        "    print(\"The key 'length' exists in the dictionary.\")\n",
        "else:\n",
        "    print(\"The key 'length' does not exist in the dictionary.\")\n",
        "\n",
        "# Print all the keys in the dictionary\n",
        "print(\"Keys:\", river.keys())\n",
        "\n",
        "# Print all the values in the dictionary\n",
        "print(\"Values:\", river.values())"
      ]
    },
    {
      "cell_type": "markdown",
      "metadata": {
        "id": "g9DiWj9RLoMZ"
      },
      "source": [
        "## Exercise 10: Practical Application\n",
        "\n",
        "Imagine you have a list of tuples, each representing a location with its name, latitude, and longitude:"
      ]
    },
    {
      "cell_type": "code",
      "execution_count": 7,
      "metadata": {
        "id": "FCP8ASL3LoMZ"
      },
      "outputs": [],
      "source": [
        "locations = [\n",
        "    (\"Mount Everest\", 27.9881, 86.9250),\n",
        "    (\"K2\", 35.8808, 76.5155),\n",
        "    (\"Kangchenjunga\", 27.7025, 88.1475),\n",
        "]"
      ]
    },
    {
      "cell_type": "markdown",
      "metadata": {
        "id": "085hIlxwLoMa"
      },
      "source": [
        "Perform the following tasks:\n",
        "\n",
        "1. Create a new list that contains only the names of the locations.\n",
        "2. Create a dictionary where the keys are location names and the values are tuples of their coordinates.\n",
        "3. Print the latitude of \"K2\" using the dictionary."
      ]
    },
    {
      "cell_type": "code",
      "execution_count": 8,
      "metadata": {
        "id": "e-i66lBDLoMa"
      },
      "outputs": [
        {
          "name": "stdout",
          "output_type": "stream",
          "text": [
            "Location Names: ['Mount Everest', 'K2', 'Kangchenjunga']\n",
            "Location Dictionary: {'Mount Everest': (27.9881, 86.925), 'K2': (35.8808, 76.5155), 'Kangchenjunga': (27.7025, 88.1475)}\n",
            "Latitude of K2: 35.8808\n"
          ]
        }
      ],
      "source": [
        "# 1. Create a new list that contains only the names of the locations\n",
        "location_names = [location[0] for location in locations]\n",
        "print(\"Location Names:\", location_names)\n",
        "\n",
        "# 2. Create a dictionary where the keys are location names and the values are tuples of their coordinates\n",
        "location_dict = {location[0]: (location[1], location[2]) for location in locations}\n",
        "print(\"Location Dictionary:\", location_dict)\n",
        "\n",
        "# 3. Print the latitude of \"K2\" using the dictionary\n",
        "print(\"Latitude of K2:\", location_dict[\"K2\"][0])"
      ]
    },
    {
      "cell_type": "markdown",
      "metadata": {
        "id": "GIpD5oDYLoMa"
      },
      "source": [
        "## Exercise 11: Manipulating Geographic Location Strings\n",
        "\n",
        "- Create a string that represents the name of a geographic feature (e.g., `\"Amazon River\"`).\n",
        "- Convert the string to lowercase and then to uppercase.\n",
        "- Concatenate the string with the name of the country (e.g., `\"Brazil\"`) to create a full location name.\n",
        "- Repeat the string three times, separating each repetition with a dash (`-`)."
      ]
    },
    {
      "cell_type": "code",
      "execution_count": 9,
      "metadata": {
        "id": "Vwx4TZTTLoMa"
      },
      "outputs": [
        {
          "name": "stdout",
          "output_type": "stream",
          "text": [
            "Lowercase: amazon river\n",
            "Uppercase: AMAZON RIVER\n",
            "Full Location Name: Amazon River, Brazil\n",
            "Repeated String: Amazon River - Amazon River - Amazon River\n"
          ]
        }
      ],
      "source": [
        "# Create a string that represents the name of a geographic feature\n",
        "geo_feature = \"Amazon River\"\n",
        "\n",
        "# Convert the string to lowercase\n",
        "lowercase_geo_feature = geo_feature.lower()\n",
        "print(\"Lowercase:\", lowercase_geo_feature)\n",
        "\n",
        "# Convert the string to uppercase\n",
        "uppercase_geo_feature = geo_feature.upper()\n",
        "print(\"Uppercase:\", uppercase_geo_feature)\n",
        "\n",
        "# Concatenate the string with the name of the country\n",
        "country = \"Brazil\"\n",
        "full_location_name = geo_feature + \", \" + country\n",
        "print(\"Full Location Name:\", full_location_name)\n",
        "\n",
        "# Repeat the string three times, separating each repetition with a dash\n",
        "repeated_geo_feature = (geo_feature + \" - \") * 2 + geo_feature\n",
        "print(\"Repeated String:\", repeated_geo_feature)"
      ]
    },
    {
      "cell_type": "markdown",
      "metadata": {
        "id": "rwPBEaL3LoMa"
      },
      "source": [
        "## Exercise 12: Extracting and Formatting Coordinates\n",
        "\n",
        "- Given a string with the format `\"latitude, longitude\"` (e.g., `\"40.7128N, 74.0060W\"`), extract the numeric values of latitude and longitude.\n",
        "- Convert these values to floats and remove the directional indicators (`N`, `S`, `E`, `W`).\n",
        "- Format the coordinates into a `POINT` WKT string (e.g., `\"POINT(-74.0060 40.7128)\"`)."
      ]
    },
    {
      "cell_type": "code",
      "execution_count": 10,
      "metadata": {
        "id": "XjnwTnE8LoMa"
      },
      "outputs": [
        {
          "name": "stdout",
          "output_type": "stream",
          "text": [
            "POINT(-74.006 40.7128)\n"
          ]
        }
      ],
      "source": [
        "# Given string with the format \"latitude, longitude\"\n",
        "coordinate_str = \"40.7128N, 74.0060W\"\n",
        "\n",
        "# Extract the numeric values of latitude and longitude\n",
        "latitude_str, longitude_str = coordinate_str.split(\", \")\n",
        "\n",
        "# Remove the directional indicators and convert to floats\n",
        "latitude = float(latitude_str[:-1])\n",
        "longitude = float(longitude_str[:-1])\n",
        "\n",
        "# Adjust the sign based on the directional indicators\n",
        "if latitude_str[-1] == 'S':\n",
        "    latitude = -latitude\n",
        "if longitude_str[-1] == 'W':\n",
        "    longitude = -longitude\n",
        "\n",
        "# Format the coordinates into a POINT WKT string\n",
        "wkt_point = f\"POINT({longitude} {latitude})\"\n",
        "print(wkt_point)"
      ]
    },
    {
      "cell_type": "markdown",
      "metadata": {
        "id": "faBWG8aPLoMa"
      },
      "source": [
        "## Exercise 13: Building Dynamic SQL Queries\n",
        "\n",
        "- Given a table name and a condition, dynamically build an SQL query string.\n",
        "- Example: If `table_name = \"cities\"` and `condition = \"population > 1000000\"`, the query should be `\"SELECT * FROM cities WHERE population > 1000000;\"`.\n",
        "- Add additional conditions dynamically, like `AND` clauses."
      ]
    },
    {
      "cell_type": "code",
      "execution_count": 11,
      "metadata": {
        "id": "I9q1X8VPLoMa"
      },
      "outputs": [
        {
          "name": "stdout",
          "output_type": "stream",
          "text": [
            "SELECT * FROM cities WHERE population > 1000000 AND area > 500 AND country = 'USA';\n"
          ]
        }
      ],
      "source": [
        "def build_sql_query(table_name, condition, additional_conditions=None):\n",
        "    # Start with the base query\n",
        "    query = f\"SELECT * FROM {table_name} WHERE {condition}\"\n",
        "    \n",
        "    # Add additional conditions if provided\n",
        "    if additional_conditions:\n",
        "        for cond in additional_conditions:\n",
        "            query += f\" AND {cond}\"\n",
        "    \n",
        "    # End the query with a semicolon\n",
        "    query += \";\"\n",
        "    \n",
        "    return query\n",
        "\n",
        "# Example usage\n",
        "table_name = \"cities\"\n",
        "condition = \"population > 1000000\"\n",
        "additional_conditions = [\"area > 500\", \"country = 'USA'\"]\n",
        "\n",
        "query = build_sql_query(table_name, condition, additional_conditions)\n",
        "print(query)"
      ]
    },
    {
      "cell_type": "markdown",
      "metadata": {
        "id": "3Ct3a-mGLoMa"
      },
      "source": [
        "## Exercise 14: String Normalization and Cleaning\n",
        "\n",
        "- Given a list of city names with inconsistent formatting (e.g., `[\" new york \", \"Los ANGELES\", \"   CHICAGO\"]`), normalize the names by:\n",
        "  - Stripping any leading or trailing whitespace.\n",
        "  - Converting them to title case (e.g., `\"New York\"`, `\"Los Angeles\"`, `\"Chicago\"`).\n",
        "- Ensure that the output is a clean list of city names."
      ]
    },
    {
      "cell_type": "code",
      "execution_count": 12,
      "metadata": {
        "id": "f6qeh7OmLoMa"
      },
      "outputs": [
        {
          "name": "stdout",
          "output_type": "stream",
          "text": [
            "['New York', 'Los Angeles', 'Chicago']\n"
          ]
        }
      ],
      "source": [
        "# Given list of city names with inconsistent formatting\n",
        "city_names = [\" new york \", \"Los ANGELES\", \"   CHICAGO\"]\n",
        "\n",
        "# Normalize the names by stripping whitespace and converting to title case\n",
        "clean_city_names = [city.strip().title() for city in city_names]\n",
        "\n",
        "# Print the clean list of city names\n",
        "print(clean_city_names)"
      ]
    },
    {
      "cell_type": "markdown",
      "metadata": {
        "id": "CLegwLGJLoMa"
      },
      "source": [
        "## Exercise 15: Parsing and Extracting Address Information\n",
        "\n",
        "- Given a string in the format `\"Street, City, Country\"` (e.g., `\"123 Main St, Springfield, USA\"`), write a function that parses the string into a dictionary with keys `street`, `city`, and `country`.\n",
        "- The function should return a dictionary like `{\"street\": \"123 Main St\", \"city\": \"Springfield\", \"country\": \"USA\"}`."
      ]
    },
    {
      "cell_type": "code",
      "execution_count": 13,
      "metadata": {
        "id": "QWhfda4bLoMb"
      },
      "outputs": [
        {
          "name": "stdout",
          "output_type": "stream",
          "text": [
            "{'street': '123 Main St', 'city': 'Springfield', 'country': 'USA'}\n"
          ]
        }
      ],
      "source": [
        "def parse_address(address):\n",
        "    # Split the address string by comma\n",
        "    parts = address.split(\", \")\n",
        "    \n",
        "    # Create a dictionary with keys 'street', 'city', and 'country'\n",
        "    address_dict = {\n",
        "        \"street\": parts[0],\n",
        "        \"city\": parts[1],\n",
        "        \"country\": parts[2]\n",
        "    }\n",
        "    \n",
        "    return address_dict\n",
        "\n",
        "# Example usage\n",
        "address = \"123 Main St, Springfield, USA\"\n",
        "parsed_address = parse_address(address)\n",
        "print(parsed_address)"
      ]
    },
    {
      "cell_type": "markdown",
      "metadata": {
        "id": "Fy1MAnDFLoMb"
      },
      "source": [
        "## Exercise 16: Using For Loops to Process Coordinate Lists\n",
        "\n",
        "- Create a list of tuples representing coordinates (latitude, longitude).\n",
        "- Write a `for` loop that prints each coordinate and indicates whether it is in the Northern or Southern Hemisphere based on the latitude."
      ]
    },
    {
      "cell_type": "code",
      "execution_count": 14,
      "metadata": {
        "id": "XPAtFMmOLoMb"
      },
      "outputs": [
        {
          "name": "stdout",
          "output_type": "stream",
          "text": [
            "Coordinate: (40.7128, -74.006) is in the Northern Hemisphere\n",
            "Coordinate: (-33.8688, 151.2093) is in the Southern Hemisphere\n",
            "Coordinate: (51.5074, -0.1278) is in the Northern Hemisphere\n",
            "Coordinate: (-23.5505, -46.6333) is in the Southern Hemisphere\n"
          ]
        }
      ],
      "source": [
        "# Create a list of tuples representing coordinates (latitude, longitude)\n",
        "coordinates = [\n",
        "    (40.7128, -74.0060),  # New York City\n",
        "    (-33.8688, 151.2093), # Sydney\n",
        "    (51.5074, -0.1278),   # London\n",
        "    (-23.5505, -46.6333)  # São Paulo\n",
        "]\n",
        "\n",
        "# Write a for loop that prints each coordinate and indicates whether it is in the Northern or Southern Hemisphere\n",
        "for lat, lon in coordinates:\n",
        "    hemisphere = \"Northern\" if lat >= 0 else \"Southern\"\n",
        "    print(f\"Coordinate: ({lat}, {lon}) is in the {hemisphere} Hemisphere\")"
      ]
    },
    {
      "cell_type": "markdown",
      "metadata": {
        "id": "TIvk1LTmLoMb"
      },
      "source": [
        "## Exercise 17: While Loops for Iterative Processing\n",
        "\n",
        "- Create a list of coordinates (latitude, longitude).\n",
        "- Write a `while` loop that continues to print each coordinate until it encounters a coordinate with a negative latitude.\n",
        "- Stop the loop once this condition is met."
      ]
    },
    {
      "cell_type": "code",
      "execution_count": 15,
      "metadata": {
        "id": "DeKxejqRLoMb"
      },
      "outputs": [
        {
          "name": "stdout",
          "output_type": "stream",
          "text": [
            "Coordinate: (40.7128, -74.006)\n",
            "Coordinate: (51.5074, -0.1278)\n"
          ]
        }
      ],
      "source": [
        "# Create a list of coordinates (latitude, longitude)\n",
        "coordinates = [\n",
        "    (40.7128, -74.0060),  # New York City\n",
        "    (51.5074, -0.1278),   # London\n",
        "    (-33.8688, 151.2093), # Sydney\n",
        "    (35.6895, 139.6917)   # Tokyo\n",
        "]\n",
        "\n",
        "# Initialize index for the while loop\n",
        "index = 0\n",
        "\n",
        "# Write a while loop that continues to print each coordinate until it encounters a coordinate with a negative latitude\n",
        "while index < len(coordinates):\n",
        "    lat, lon = coordinates[index]\n",
        "    if lat < 0:\n",
        "        break\n",
        "    print(f\"Coordinate: ({lat}, {lon})\")\n",
        "    index += 1"
      ]
    },
    {
      "cell_type": "markdown",
      "metadata": {
        "id": "Ng9PKGuGLoMb"
      },
      "source": [
        "## Exercise 18: Conditional Logic in Loops\n",
        "\n",
        "- Create a list of coordinates and use a `for` loop to iterate over them.\n",
        "- Use an `if-elif-else` statement inside the loop to classify each coordinate based on its longitude:\n",
        "  - Print `\"Eastern Hemisphere\"` if the longitude is greater than 0.\n",
        "  - Print `\"Western Hemisphere\"` if the longitude is less than 0."
      ]
    },
    {
      "cell_type": "code",
      "execution_count": 16,
      "metadata": {
        "id": "fuU6elZtLoMb"
      },
      "outputs": [
        {
          "name": "stdout",
          "output_type": "stream",
          "text": [
            "Coordinate: (40.7128, -74.006)\n",
            "Coordinate: (51.5074, -0.1278)\n"
          ]
        }
      ],
      "source": [
        "# Create a list of coordinates (latitude, longitude)\n",
        "coordinates = [\n",
        "    (40.7128, -74.0060),  # New York City\n",
        "    (51.5074, -0.1278),   # London\n",
        "    (-33.8688, 151.2093), # Sydney\n",
        "    (35.6895, 139.6917)   # Tokyo\n",
        "]\n",
        "\n",
        "# Initialize index for the while loop\n",
        "index = 0\n",
        "\n",
        "# Write a while loop that continues to print each coordinate until it encounters a coordinate with a negative latitude\n",
        "while index < len(coordinates):\n",
        "    lat, lon = coordinates[index]\n",
        "    if lat < 0:\n",
        "        break\n",
        "    print(f\"Coordinate: ({lat}, {lon})\")\n",
        "    index += 1"
      ]
    },
    {
      "cell_type": "markdown",
      "metadata": {
        "id": "05iJQ0iELoMg"
      },
      "source": [
        "## Exercise 19: Filtering Data with Combined Loops and Conditionals\n",
        "\n",
        "- Given a list of coordinates, filter out and store only those located in the Southern Hemisphere (latitude < 0).\n",
        "- Count the number of coordinates that meet this condition and print the result."
      ]
    },
    {
      "cell_type": "code",
      "execution_count": 17,
      "metadata": {
        "id": "aeHxwEwjLoMh"
      },
      "outputs": [
        {
          "name": "stdout",
          "output_type": "stream",
          "text": [
            "Number of coordinates in the Southern Hemisphere: 1\n",
            "Coordinates in the Southern Hemisphere: [(-33.8688, 151.2093)]\n"
          ]
        }
      ],
      "source": [
        "# Given list of coordinates (latitude, longitude)\n",
        "coordinates = [\n",
        "    (40.7128, -74.0060),  # New York City\n",
        "    (51.5074, -0.1278),   # London\n",
        "    (-33.8688, 151.2093), # Sydney\n",
        "    (35.6895, 139.6917)   # Tokyo\n",
        "]\n",
        "\n",
        "# Filter out and store only those located in the Southern Hemisphere (latitude < 0)\n",
        "southern_hemisphere_coords = [coord for coord in coordinates if coord[0] < 0]\n",
        "\n",
        "# Count the number of coordinates that meet this condition\n",
        "count_southern_hemisphere = len(southern_hemisphere_coords)\n",
        "\n",
        "# Print the result\n",
        "print(f\"Number of coordinates in the Southern Hemisphere: {count_southern_hemisphere}\")\n",
        "print(\"Coordinates in the Southern Hemisphere:\", southern_hemisphere_coords)"
      ]
    },
    {
      "cell_type": "markdown",
      "metadata": {
        "id": "hy8axMyjLoMh"
      },
      "source": [
        "## Exercise 20: Generating and Analyzing Random Coordinates\n",
        "\n",
        "- Write a program that generates random coordinates (latitude between [-90, 90] degrees and longitude between [-180, 180] degrees).\n",
        "- Use a `while` loop to keep generating coordinates until a pair with both latitude and longitude greater than 50 is generated.\n",
        "- Print each generated coordinate and the final coordinate that meets the condition."
      ]
    },
    {
      "cell_type": "code",
      "execution_count": 18,
      "metadata": {
        "id": "aH-NAQGULoMh"
      },
      "outputs": [
        {
          "name": "stdout",
          "output_type": "stream",
          "text": [
            "Generated coordinate: (27.976536574999557, 95.20435147381875)\n",
            "Generated coordinate: (40.867158018003494, 141.95809201085018)\n",
            "Generated coordinate: (6.92079299450441, 121.8549344693152)\n",
            "Generated coordinate: (-84.66223938558787, 148.52501511699427)\n",
            "Generated coordinate: (50.630112038095746, -113.15508849707429)\n",
            "Generated coordinate: (-32.289584841711424, 60.396432307114424)\n",
            "Generated coordinate: (-55.546125952997535, 117.30840499323949)\n",
            "Generated coordinate: (47.9473158519979, -49.58093444158382)\n",
            "Generated coordinate: (33.05027596406937, -129.9586148613873)\n",
            "Generated coordinate: (-58.07896378174827, 70.85650294719005)\n",
            "Generated coordinate: (70.69869085900135, -154.52428036648496)\n",
            "Generated coordinate: (46.386012800996156, -173.5120090412739)\n",
            "Generated coordinate: (-79.72751260133262, 22.2760490464739)\n",
            "Final coordinate that meets the condition: (70.37910464729765, 62.62640886152951)\n"
          ]
        }
      ],
      "source": [
        "import random\n",
        "\n",
        "def generate_random_coordinate():\n",
        "    latitude = random.uniform(-90, 90)\n",
        "    longitude = random.uniform(-180, 180)\n",
        "    return (latitude, longitude)\n",
        "\n",
        "# Initialize the coordinate\n",
        "coordinate = generate_random_coordinate()\n",
        "\n",
        "# Use a while loop to keep generating coordinates until a pair with both latitude and longitude > 50 is generated\n",
        "while not (coordinate[0] > 50 and coordinate[1] > 50):\n",
        "    print(f\"Generated coordinate: {coordinate}\")\n",
        "    coordinate = generate_random_coordinate()\n",
        "\n",
        "# Print the final coordinate that meets the condition\n",
        "print(f\"Final coordinate that meets the condition: {coordinate}\")"
      ]
    },
    {
      "cell_type": "markdown",
      "metadata": {
        "id": "DnzG_be4LoMh"
      },
      "source": [
        "## Submission Requirements\n",
        "\n",
        "Complete the exercises above and and upload the notebook to your GitHub repository. Make sure the notebook has a Colab badge at the top so that it can be easily opened in Google Colab. Submit the URL of the notebook to Canvas."
      ]
    }
  ],
  "metadata": {
    "colab": {
      "provenance": [],
      "toc_visible": true
    },
    "kernelspec": {
      "display_name": "base",
      "language": "python",
      "name": "python3"
    },
    "language_info": {
      "codemirror_mode": {
        "name": "ipython",
        "version": 3
      },
      "file_extension": ".py",
      "mimetype": "text/x-python",
      "name": "python",
      "nbconvert_exporter": "python",
      "pygments_lexer": "ipython3",
      "version": "3.12.8"
    }
  },
  "nbformat": 4,
  "nbformat_minor": 0
}
